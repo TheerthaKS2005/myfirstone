{
  "nbformat": 4,
  "nbformat_minor": 0,
  "metadata": {
    "colab": {
      "provenance": []
    },
    "kernelspec": {
      "name": "python3",
      "display_name": "Python 3"
    },
    "language_info": {
      "name": "python"
    }
  },
  "cells": [
    {
      "cell_type": "code",
      "source": [
        "#to find sum of two numbers"
      ],
      "metadata": {
        "id": "CeEee1FknXOV"
      },
      "execution_count": null,
      "outputs": []
    },
    {
      "cell_type": "code",
      "execution_count": null,
      "metadata": {
        "colab": {
          "base_uri": "https://localhost:8080/"
        },
        "id": "xt1cy8zegQQp",
        "outputId": "7d29207d-3b4b-47f6-fe49-54b8b31e6e28"
      },
      "outputs": [
        {
          "output_type": "stream",
          "name": "stdout",
          "text": [
            "enter first number2\n",
            "enter second number3\n",
            "5\n"
          ]
        }
      ],
      "source": [
        "a=int(input('enter first number'))\n",
        "b=int(input(\"enter second number\"))\n",
        "s=a+b\n",
        "print(s)"
      ]
    },
    {
      "cell_type": "code",
      "source": [
        "#product of 2 numbers"
      ],
      "metadata": {
        "id": "q_-nGirYncwi"
      },
      "execution_count": null,
      "outputs": []
    },
    {
      "cell_type": "code",
      "source": [
        "a=int(input('enter first number'))\n",
        "b=int(input(\"enter second number\"))\n",
        "s=a*b\n",
        "print(s)"
      ],
      "metadata": {
        "colab": {
          "base_uri": "https://localhost:8080/"
        },
        "id": "Lqt26QM6g7ow",
        "outputId": "a594596e-deb1-467d-ef23-be386d40977e"
      },
      "execution_count": null,
      "outputs": [
        {
          "output_type": "stream",
          "name": "stdout",
          "text": [
            "enter first number2\n",
            "enter second number3\n",
            "6\n"
          ]
        }
      ]
    },
    {
      "cell_type": "code",
      "source": [
        "#quotient"
      ],
      "metadata": {
        "id": "GvDypCR1nj9r"
      },
      "execution_count": null,
      "outputs": []
    },
    {
      "cell_type": "code",
      "source": [
        "a=int(input('enter first number'))\n",
        "b=int(input(\"enter second number\"))\n",
        "q=a/b\n",
        "r=a%b\n",
        "print('the quotient is',q )\n",
        "print('the reminder is', r)"
      ],
      "metadata": {
        "colab": {
          "base_uri": "https://localhost:8080/"
        },
        "id": "jUvfCwvJhdUe",
        "outputId": "a771ad5f-9794-4265-dc72-8a6dd5fe12f2"
      },
      "execution_count": null,
      "outputs": [
        {
          "output_type": "stream",
          "name": "stdout",
          "text": [
            "enter first number20\n",
            "enter second number3\n",
            "the quotient is 6.666666666666667\n",
            "the reminder is 2\n"
          ]
        }
      ]
    },
    {
      "cell_type": "code",
      "source": [
        "#length of a string"
      ],
      "metadata": {
        "id": "T3nN2T9znslS"
      },
      "execution_count": null,
      "outputs": []
    },
    {
      "cell_type": "code",
      "source": [
        "s=('serene')"
      ],
      "metadata": {
        "id": "MGJXn02lkCCP"
      },
      "execution_count": null,
      "outputs": []
    },
    {
      "cell_type": "code",
      "source": [
        "len(s)"
      ],
      "metadata": {
        "colab": {
          "base_uri": "https://localhost:8080/"
        },
        "id": "gmbV8phnkPSp",
        "outputId": "c1e8835a-d4f6-48d4-e85b-001f7ab521b8"
      },
      "execution_count": null,
      "outputs": [
        {
          "output_type": "execute_result",
          "data": {
            "text/plain": [
              "6"
            ]
          },
          "metadata": {},
          "execution_count": 20
        }
      ]
    },
    {
      "cell_type": "code",
      "source": [
        "#number of occurences of a character"
      ],
      "metadata": {
        "id": "2TyFMWqsn_lE"
      },
      "execution_count": null,
      "outputs": []
    },
    {
      "cell_type": "code",
      "source": [
        "x=\"elephant\"\n",
        "s=\"e\"\n",
        "x.count(s)"
      ],
      "metadata": {
        "colab": {
          "base_uri": "https://localhost:8080/"
        },
        "id": "rWSfM6Zfll0t",
        "outputId": "0c5fa202-8074-47af-f4a8-6ba3c5f7165c"
      },
      "execution_count": null,
      "outputs": [
        {
          "output_type": "execute_result",
          "data": {
            "text/plain": [
              "2"
            ]
          },
          "metadata": {},
          "execution_count": 1
        }
      ]
    },
    {
      "cell_type": "code",
      "source": [
        "a=('serene')"
      ],
      "metadata": {
        "id": "i4N4-8ebklQt"
      },
      "execution_count": null,
      "outputs": []
    },
    {
      "cell_type": "code",
      "source": [
        "#to upper case"
      ],
      "metadata": {
        "id": "sFE46JVjn2DK"
      },
      "execution_count": null,
      "outputs": []
    },
    {
      "cell_type": "code",
      "source": [
        "a.upper()"
      ],
      "metadata": {
        "colab": {
          "base_uri": "https://localhost:8080/",
          "height": 35
        },
        "id": "ulwf0ms2lTho",
        "outputId": "f6e23457-1939-4c6c-982c-07b50b172232"
      },
      "execution_count": null,
      "outputs": [
        {
          "output_type": "execute_result",
          "data": {
            "text/plain": [
              "'SERENE'"
            ],
            "application/vnd.google.colaboratory.intrinsic+json": {
              "type": "string"
            }
          },
          "metadata": {},
          "execution_count": 23
        }
      ]
    },
    {
      "cell_type": "code",
      "source": [
        "#to lower case"
      ],
      "metadata": {
        "id": "YOC4hKxyn5Pi"
      },
      "execution_count": null,
      "outputs": []
    },
    {
      "cell_type": "code",
      "source": [
        "a.lower()"
      ],
      "metadata": {
        "colab": {
          "base_uri": "https://localhost:8080/",
          "height": 35
        },
        "id": "aZZNcJC9leYW",
        "outputId": "818a25d2-8370-46c7-ba4d-350ea2f53be9"
      },
      "execution_count": null,
      "outputs": [
        {
          "output_type": "execute_result",
          "data": {
            "text/plain": [
              "'serene'"
            ],
            "application/vnd.google.colaboratory.intrinsic+json": {
              "type": "string"
            }
          },
          "metadata": {},
          "execution_count": 24
        }
      ]
    }
  ]
}