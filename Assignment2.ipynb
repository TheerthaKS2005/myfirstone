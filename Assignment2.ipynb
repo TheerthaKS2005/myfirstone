{
  "nbformat": 4,
  "nbformat_minor": 0,
  "metadata": {
    "colab": {
      "provenance": []
    },
    "kernelspec": {
      "name": "python3",
      "display_name": "Python 3"
    },
    "language_info": {
      "name": "python"
    }
  },
  "cells": [
    {
      "cell_type": "code",
      "execution_count": 1,
      "metadata": {
        "id": "8ArjxfohbMgQ",
        "colab": {
          "base_uri": "https://localhost:8080/"
        },
        "outputId": "0c9a02ad-6ecd-4941-98a2-d01abe9b2efa"
      },
      "outputs": [
        {
          "output_type": "stream",
          "name": "stdout",
          "text": [
            "Enter the l of rectangle5\n",
            "Enter the b of rectangle6\n",
            "30\n"
          ]
        }
      ],
      "source": [
        "#input function\n",
        "l=int(input(\"Enter the l of rectangle\"))\n",
        "b=int(input(\"Enter the b of rectangle\"))\n",
        "a=(l*b)\n",
        "print(a)\n",
        "\n",
        "\n",
        "\n"
      ]
    },
    {
      "cell_type": "code",
      "source": [
        "n1=int(input(\"Enter n1\"))\n",
        "n2=int(input(\"Enter n2\"))\n",
        "s=n1+n2\n",
        "q=n1/n2\n",
        "p=n1*n2\n",
        "d=n1-n2\n",
        "print(s)\n",
        "print(q)"
      ],
      "metadata": {
        "colab": {
          "base_uri": "https://localhost:8080/"
        },
        "id": "pkWZhqDWg3Fk",
        "outputId": "a164b15c-ee32-47f7-e534-480f6a2a0339"
      },
      "execution_count": 2,
      "outputs": [
        {
          "output_type": "stream",
          "name": "stdout",
          "text": [
            "Enter n14\n",
            "Enter n26\n",
            "10\n",
            "0.6666666666666666\n"
          ]
        }
      ]
    },
    {
      "cell_type": "code",
      "source": [
        "f=float(input(\"Enter a number\"))\n",
        "c=(f-32)*5/9\n",
        "print(c)\n"
      ],
      "metadata": {
        "colab": {
          "base_uri": "https://localhost:8080/"
        },
        "id": "R03G-lR4hjiF",
        "outputId": "7d243506-a4b9-4206-ac75-2f6655c3e78e"
      },
      "execution_count": 3,
      "outputs": [
        {
          "output_type": "stream",
          "name": "stdout",
          "text": [
            "Enter a number6\n",
            "-14.444444444444445\n"
          ]
        }
      ]
    },
    {
      "cell_type": "code",
      "source": [
        "c=float(input(\"Enter the number\"))\n",
        "f=(c*9/5)+32\n",
        "print(f)"
      ],
      "metadata": {
        "colab": {
          "base_uri": "https://localhost:8080/"
        },
        "id": "I8SnHjd9iYrE",
        "outputId": "b3bb8424-8e4a-4274-f5f2-94f575d79fb2"
      },
      "execution_count": 4,
      "outputs": [
        {
          "output_type": "stream",
          "name": "stdout",
          "text": [
            "Enter the number4\n",
            "39.2\n"
          ]
        }
      ]
    },
    {
      "cell_type": "code",
      "source": [
        "num=int(input(\"Enter a number\"))\n",
        "if num>0:\n",
        "  print(\"num is positive\")\n",
        "elif num<0:\n",
        "  print(\"num is negative\")\n",
        "else:\n",
        "  print(\"invalid\")"
      ],
      "metadata": {
        "colab": {
          "base_uri": "https://localhost:8080/"
        },
        "id": "VbZyv5E9iu_0",
        "outputId": "f5f0e206-753c-4b4e-9f7a-e1dff4ae289e"
      },
      "execution_count": 5,
      "outputs": [
        {
          "output_type": "stream",
          "name": "stdout",
          "text": [
            "Enter a number42\n",
            "num is positive\n"
          ]
        }
      ]
    },
    {
      "cell_type": "code",
      "source": [
        "m=int(input(\"Enter the year\"))\n",
        "if m%4==0:\n",
        "  print(\"it is a leap year\")\n",
        "elif m%4!=0:\n",
        "  print(\"it is not a leap year\")\n"
      ],
      "metadata": {
        "colab": {
          "base_uri": "https://localhost:8080/"
        },
        "id": "O85-Tix7jXTL",
        "outputId": "20b59e5c-e04b-4db8-b382-0c693b97f293"
      },
      "execution_count": 7,
      "outputs": [
        {
          "output_type": "stream",
          "name": "stdout",
          "text": [
            "Enter the year2009\n",
            "it is not a leap year\n"
          ]
        }
      ]
    },
    {
      "cell_type": "code",
      "source": [
        "mark=int(input(\"Enter mark\"))\n",
        "if mark>89:\n",
        "  print(\"A\")\n",
        "elif mark>79:\n",
        "  print(\"B\")\n",
        "elif mark>69:\n",
        "  print(\"C\")\n",
        "elif mark>59:\n",
        "  print(\"D\")\n",
        "elif mark<59:\n",
        "  print(\"F\")\n",
        "else:\n",
        "  print(\"invalid\")\n",
        "\n"
      ],
      "metadata": {
        "colab": {
          "base_uri": "https://localhost:8080/"
        },
        "id": "4stPiY44kRiN",
        "outputId": "d221a949-5904-46e2-c685-937bdf48dc90"
      },
      "execution_count": 8,
      "outputs": [
        {
          "output_type": "stream",
          "name": "stdout",
          "text": [
            "Enter mark50\n",
            "F\n"
          ]
        }
      ]
    },
    {
      "cell_type": "code",
      "source": [
        "for num in range(10,0,-1):\n",
        "  print(num)"
      ],
      "metadata": {
        "colab": {
          "base_uri": "https://localhost:8080/"
        },
        "id": "dz1VXPKOl3OF",
        "outputId": "a173e341-807a-45b7-e692-c42b9c30cb17"
      },
      "execution_count": 9,
      "outputs": [
        {
          "output_type": "stream",
          "name": "stdout",
          "text": [
            "10\n",
            "9\n",
            "8\n",
            "7\n",
            "6\n",
            "5\n",
            "4\n",
            "3\n",
            "2\n",
            "1\n"
          ]
        }
      ]
    },
    {
      "cell_type": "code",
      "source": [
        "for i in range(2,22,2):\n",
        "  print(i)"
      ],
      "metadata": {
        "colab": {
          "base_uri": "https://localhost:8080/"
        },
        "id": "loJMss03mJnL",
        "outputId": "377cf21a-6125-4e13-fb95-b8c5f3ad0011"
      },
      "execution_count": 10,
      "outputs": [
        {
          "output_type": "stream",
          "name": "stdout",
          "text": [
            "2\n",
            "4\n",
            "6\n",
            "8\n",
            "10\n",
            "12\n",
            "14\n",
            "16\n",
            "18\n",
            "20\n"
          ]
        }
      ]
    },
    {
      "cell_type": "code",
      "source": [
        "n=int(input(\"Enter the number:\"))\n",
        "for i in range(1,11):\n",
        "  print(n,\"*\",i,\"=\",n*i)"
      ],
      "metadata": {
        "colab": {
          "base_uri": "https://localhost:8080/"
        },
        "id": "En94DAo4mTHb",
        "outputId": "31dce2ef-cf6c-4f0c-db7a-11b9a1802921"
      },
      "execution_count": 11,
      "outputs": [
        {
          "output_type": "stream",
          "name": "stdout",
          "text": [
            "Enter the number:5\n",
            "5 * 1 = 5\n",
            "5 * 2 = 10\n",
            "5 * 3 = 15\n",
            "5 * 4 = 20\n",
            "5 * 5 = 25\n",
            "5 * 6 = 30\n",
            "5 * 7 = 35\n",
            "5 * 8 = 40\n",
            "5 * 9 = 45\n",
            "5 * 10 = 50\n"
          ]
        }
      ]
    },
    {
      "cell_type": "code",
      "source": [],
      "metadata": {
        "id": "KmuIzZTdm1O7"
      },
      "execution_count": null,
      "outputs": []
    }
  ]
}