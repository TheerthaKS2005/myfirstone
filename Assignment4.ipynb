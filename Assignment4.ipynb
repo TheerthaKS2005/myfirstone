{
  "cells": [
    {
      "cell_type": "code",
      "execution_count": null,
      "id": "bd4964b1",
      "metadata": {
        "id": "bd4964b1"
      },
      "outputs": [],
      "source": [
        "#Question no-1"
      ]
    },
    {
      "cell_type": "code",
      "execution_count": 1,
      "id": "b0f847f3",
      "metadata": {
        "id": "b0f847f3"
      },
      "outputs": [],
      "source": [
        "import numpy as np"
      ]
    },
    {
      "cell_type": "code",
      "execution_count": null,
      "id": "65a1d9c0",
      "metadata": {
        "id": "65a1d9c0"
      },
      "outputs": [],
      "source": [
        "arr1=np.arange(1,11)"
      ]
    },
    {
      "cell_type": "code",
      "execution_count": null,
      "id": "4ff765a2",
      "metadata": {
        "colab": {
          "base_uri": "https://localhost:8080/"
        },
        "id": "4ff765a2",
        "outputId": "501c7283-481f-4acb-cdab-25ad5b83a399"
      },
      "outputs": [
        {
          "output_type": "execute_result",
          "data": {
            "text/plain": [
              "array([ 1,  2,  3,  4,  5,  6,  7,  8,  9, 10])"
            ]
          },
          "metadata": {},
          "execution_count": 5
        }
      ],
      "source": [
        "arr1"
      ]
    },
    {
      "cell_type": "code",
      "execution_count": null,
      "id": "63f5a812",
      "metadata": {
        "id": "63f5a812"
      },
      "outputs": [],
      "source": [
        "#Question no-2"
      ]
    },
    {
      "cell_type": "code",
      "execution_count": null,
      "id": "7f9d6ecb",
      "metadata": {
        "colab": {
          "base_uri": "https://localhost:8080/"
        },
        "id": "7f9d6ecb",
        "outputId": "67a1030b-02fa-4028-9434-e0c6ea0cbe8e"
      },
      "outputs": [
        {
          "output_type": "execute_result",
          "data": {
            "text/plain": [
              "array([[0., 0., 0.],\n",
              "       [0., 0., 0.]])"
            ]
          },
          "metadata": {},
          "execution_count": 7
        }
      ],
      "source": [
        "np.zeros((2,3))"
      ]
    },
    {
      "cell_type": "code",
      "execution_count": null,
      "id": "bd2236ed",
      "metadata": {
        "id": "bd2236ed"
      },
      "outputs": [],
      "source": [
        "#Question no-3"
      ]
    },
    {
      "cell_type": "code",
      "execution_count": null,
      "id": "db779060",
      "metadata": {
        "id": "db779060"
      },
      "outputs": [],
      "source": [
        "arr2=np.arange(2,21,2)"
      ]
    },
    {
      "cell_type": "code",
      "execution_count": null,
      "id": "b8653f54",
      "metadata": {
        "colab": {
          "base_uri": "https://localhost:8080/"
        },
        "id": "b8653f54",
        "outputId": "3097d7f5-45c4-4ec8-8e28-59ae1d68432a"
      },
      "outputs": [
        {
          "output_type": "execute_result",
          "data": {
            "text/plain": [
              "array([ 2,  4,  6,  8, 10, 12, 14, 16, 18, 20])"
            ]
          },
          "metadata": {},
          "execution_count": 10
        }
      ],
      "source": [
        "arr2"
      ]
    },
    {
      "cell_type": "code",
      "execution_count": null,
      "id": "836329f8",
      "metadata": {
        "id": "836329f8"
      },
      "outputs": [],
      "source": [
        "#Question no-4"
      ]
    },
    {
      "cell_type": "code",
      "execution_count": null,
      "id": "8118fbcb",
      "metadata": {
        "id": "8118fbcb"
      },
      "outputs": [],
      "source": [
        "arr1=np.array([1,2,3])"
      ]
    },
    {
      "cell_type": "code",
      "execution_count": null,
      "id": "76285b56",
      "metadata": {
        "id": "76285b56"
      },
      "outputs": [],
      "source": [
        "arr2=np.array([4,5,6])"
      ]
    },
    {
      "cell_type": "code",
      "execution_count": null,
      "id": "e3c23012",
      "metadata": {
        "colab": {
          "base_uri": "https://localhost:8080/"
        },
        "id": "e3c23012",
        "outputId": "f5f0e149-d28f-4217-f4d5-61ebcdc5a311"
      },
      "outputs": [
        {
          "output_type": "execute_result",
          "data": {
            "text/plain": [
              "array([5, 7, 9])"
            ]
          },
          "metadata": {},
          "execution_count": 14
        }
      ],
      "source": [
        "arr1+arr2"
      ]
    },
    {
      "cell_type": "code",
      "execution_count": null,
      "id": "fe6ac307",
      "metadata": {
        "colab": {
          "base_uri": "https://localhost:8080/"
        },
        "id": "fe6ac307",
        "outputId": "35bc6d46-9242-4dc7-dbf6-afb4e7e62794"
      },
      "outputs": [
        {
          "output_type": "execute_result",
          "data": {
            "text/plain": [
              "array([-3, -3, -3])"
            ]
          },
          "metadata": {},
          "execution_count": 15
        }
      ],
      "source": [
        "arr1-arr2"
      ]
    },
    {
      "cell_type": "code",
      "execution_count": null,
      "id": "e658dbfb",
      "metadata": {
        "colab": {
          "base_uri": "https://localhost:8080/"
        },
        "id": "e658dbfb",
        "outputId": "a0333bf9-e3ca-4ca2-915f-c43ef104863b"
      },
      "outputs": [
        {
          "output_type": "execute_result",
          "data": {
            "text/plain": [
              "array([ 4, 10, 18])"
            ]
          },
          "metadata": {},
          "execution_count": 16
        }
      ],
      "source": [
        "arr1*arr2"
      ]
    },
    {
      "cell_type": "code",
      "execution_count": null,
      "id": "c2291334",
      "metadata": {
        "colab": {
          "base_uri": "https://localhost:8080/"
        },
        "id": "c2291334",
        "outputId": "ccf65a20-9c84-4170-820f-a107caceb1cc"
      },
      "outputs": [
        {
          "output_type": "execute_result",
          "data": {
            "text/plain": [
              "array([0.25, 0.4 , 0.5 ])"
            ]
          },
          "metadata": {},
          "execution_count": 17
        }
      ],
      "source": [
        "arr1/arr2"
      ]
    },
    {
      "cell_type": "code",
      "execution_count": null,
      "id": "ed98d5f5",
      "metadata": {
        "id": "ed98d5f5"
      },
      "outputs": [],
      "source": [
        "#Question no-5"
      ]
    },
    {
      "cell_type": "code",
      "execution_count": null,
      "id": "4382bb81",
      "metadata": {
        "id": "4382bb81"
      },
      "outputs": [],
      "source": [
        "arr6=np.random.randint(100,500,100)"
      ]
    },
    {
      "cell_type": "code",
      "execution_count": null,
      "id": "5c0c5322",
      "metadata": {
        "colab": {
          "base_uri": "https://localhost:8080/"
        },
        "id": "5c0c5322",
        "outputId": "058b3ba7-2760-4e04-8ece-4eaf4f10acf2"
      },
      "outputs": [
        {
          "output_type": "execute_result",
          "data": {
            "text/plain": [
              "array([223, 347, 296, 357, 206, 357, 393, 356, 472, 220, 453, 143, 361,\n",
              "       190, 410, 135, 137, 328, 110, 373, 122, 240, 345, 406, 201, 359,\n",
              "       304, 390, 446, 185, 121, 112, 365, 100, 329, 195, 283, 288, 288,\n",
              "       213, 384, 441, 366, 442, 285, 128, 109, 489, 416, 146, 291, 223,\n",
              "       474, 324, 362, 488, 265, 130, 453, 359, 101, 197, 286, 422, 450,\n",
              "       177, 440, 455, 156, 168, 152, 340, 150, 477, 323, 423, 433, 461,\n",
              "       433, 393, 207, 444, 275, 150, 130, 250, 477, 143, 363, 375, 318,\n",
              "       104, 242, 348, 401, 331, 426, 298, 180, 297])"
            ]
          },
          "metadata": {},
          "execution_count": 21
        }
      ],
      "source": [
        "arr6"
      ]
    },
    {
      "cell_type": "code",
      "execution_count": null,
      "id": "2e0c8802",
      "metadata": {
        "colab": {
          "base_uri": "https://localhost:8080/"
        },
        "id": "2e0c8802",
        "outputId": "6e921880-2aa4-4a6a-d6d6-2ff423989b41"
      },
      "outputs": [
        {
          "output_type": "execute_result",
          "data": {
            "text/plain": [
              "299.3"
            ]
          },
          "metadata": {},
          "execution_count": 22
        }
      ],
      "source": [
        "arr6.mean()"
      ]
    },
    {
      "cell_type": "code",
      "execution_count": null,
      "id": "9b68171d",
      "metadata": {
        "id": "9b68171d"
      },
      "outputs": [],
      "source": [
        "arr6.sort()"
      ]
    },
    {
      "cell_type": "code",
      "execution_count": null,
      "id": "8eb9ce3a",
      "metadata": {
        "colab": {
          "base_uri": "https://localhost:8080/"
        },
        "id": "8eb9ce3a",
        "outputId": "175ac1bb-a910-47cf-9ee4-e7892883e736"
      },
      "outputs": [
        {
          "output_type": "execute_result",
          "data": {
            "text/plain": [
              "array([100, 101, 104, 109, 110, 112, 121, 122, 128, 130, 130, 135, 137,\n",
              "       143, 143, 146, 150, 150, 152, 156, 168, 177, 180, 185, 190, 195,\n",
              "       197, 201, 206, 207, 213, 220, 223, 223, 240, 242, 250, 265, 275,\n",
              "       283, 285, 286, 288, 288, 291, 296, 297, 298, 304, 318, 323, 324,\n",
              "       328, 329, 331, 340, 345, 347, 348, 356, 357, 357, 359, 359, 361,\n",
              "       362, 363, 365, 366, 373, 375, 384, 390, 393, 393, 401, 406, 410,\n",
              "       416, 422, 423, 426, 433, 433, 440, 441, 442, 444, 446, 450, 453,\n",
              "       453, 455, 461, 472, 474, 477, 477, 488, 489])"
            ]
          },
          "metadata": {},
          "execution_count": 24
        }
      ],
      "source": [
        "arr6"
      ]
    },
    {
      "cell_type": "code",
      "execution_count": null,
      "id": "e615ec4f",
      "metadata": {
        "id": "e615ec4f"
      },
      "outputs": [],
      "source": [
        "arr7=arr6[49]+arr6[50]"
      ]
    },
    {
      "cell_type": "code",
      "execution_count": null,
      "id": "d4201116",
      "metadata": {
        "colab": {
          "base_uri": "https://localhost:8080/"
        },
        "id": "d4201116",
        "outputId": "59c42cd6-9429-49c3-ea4e-2e5384cbe3f6"
      },
      "outputs": [
        {
          "output_type": "execute_result",
          "data": {
            "text/plain": [
              "641"
            ]
          },
          "metadata": {},
          "execution_count": 26
        }
      ],
      "source": [
        "arr7"
      ]
    },
    {
      "cell_type": "code",
      "execution_count": null,
      "id": "4c29686a",
      "metadata": {
        "colab": {
          "base_uri": "https://localhost:8080/"
        },
        "id": "4c29686a",
        "outputId": "6a42f8ee-116d-4617-cba6-1d63b4144f59"
      },
      "outputs": [
        {
          "output_type": "execute_result",
          "data": {
            "text/plain": [
              "320.5"
            ]
          },
          "metadata": {},
          "execution_count": 27
        }
      ],
      "source": [
        "arr7/2             #median"
      ]
    },
    {
      "cell_type": "code",
      "execution_count": null,
      "id": "364f606f",
      "metadata": {
        "colab": {
          "base_uri": "https://localhost:8080/"
        },
        "id": "364f606f",
        "outputId": "0e55e0c7-a4e4-419a-c019-4fa1054c41c7"
      },
      "outputs": [
        {
          "output_type": "execute_result",
          "data": {
            "text/plain": [
              "117.72803404457242"
            ]
          },
          "metadata": {},
          "execution_count": 28
        }
      ],
      "source": [
        "arr6.std()"
      ]
    },
    {
      "cell_type": "code",
      "execution_count": null,
      "id": "0754a372",
      "metadata": {
        "id": "0754a372"
      },
      "outputs": [],
      "source": [
        "#Question no-6"
      ]
    },
    {
      "cell_type": "code",
      "source": [
        "arr8=np.random.randint(10,240,12)"
      ],
      "metadata": {
        "id": "-jDhDY5yaeLy"
      },
      "id": "-jDhDY5yaeLy",
      "execution_count": 26,
      "outputs": []
    },
    {
      "cell_type": "code",
      "source": [
        "arr8"
      ],
      "metadata": {
        "colab": {
          "base_uri": "https://localhost:8080/"
        },
        "id": "NI9D0j7Mb-Na",
        "outputId": "61dc6efc-3708-4510-a4aa-86864637f653"
      },
      "id": "NI9D0j7Mb-Na",
      "execution_count": 27,
      "outputs": [
        {
          "output_type": "execute_result",
          "data": {
            "text/plain": [
              "array([218, 178,  93,  30, 187, 193,  28, 157, 224, 215, 168, 110])"
            ]
          },
          "metadata": {},
          "execution_count": 27
        }
      ]
    },
    {
      "cell_type": "code",
      "source": [
        "arr8.reshape(3,4)"
      ],
      "metadata": {
        "colab": {
          "base_uri": "https://localhost:8080/"
        },
        "id": "xJvI6bMjcTI7",
        "outputId": "0003fa28-1d7d-4e0a-c165-ea1fab0f8dc3"
      },
      "id": "xJvI6bMjcTI7",
      "execution_count": 28,
      "outputs": [
        {
          "output_type": "execute_result",
          "data": {
            "text/plain": [
              "array([[218, 178,  93,  30],\n",
              "       [187, 193,  28, 157],\n",
              "       [224, 215, 168, 110]])"
            ]
          },
          "metadata": {},
          "execution_count": 28
        }
      ]
    },
    {
      "cell_type": "code",
      "source": [
        "#Question no-7"
      ],
      "metadata": {
        "id": "V11KVDYkb_g6"
      },
      "id": "V11KVDYkb_g6",
      "execution_count": null,
      "outputs": []
    },
    {
      "cell_type": "code",
      "source": [
        "arr=np.square([1,2,3,4,5])"
      ],
      "metadata": {
        "id": "Fcg8_qDNcx_l"
      },
      "id": "Fcg8_qDNcx_l",
      "execution_count": null,
      "outputs": []
    },
    {
      "cell_type": "code",
      "source": [
        "arr"
      ],
      "metadata": {
        "colab": {
          "base_uri": "https://localhost:8080/"
        },
        "id": "v3dAxnvOdDJg",
        "outputId": "ef34a3e4-add4-4fee-f735-7e4ced10ff73"
      },
      "id": "v3dAxnvOdDJg",
      "execution_count": null,
      "outputs": [
        {
          "output_type": "execute_result",
          "data": {
            "text/plain": [
              "array([ 1,  4,  9, 16, 25])"
            ]
          },
          "metadata": {},
          "execution_count": 51
        }
      ]
    },
    {
      "cell_type": "code",
      "source": [
        "#Question no-8"
      ],
      "metadata": {
        "id": "Q0vzdf-LeURY"
      },
      "id": "Q0vzdf-LeURY",
      "execution_count": null,
      "outputs": []
    },
    {
      "cell_type": "code",
      "source": [
        "np.eye(5,5)"
      ],
      "metadata": {
        "id": "GI7xpJxaealJ",
        "colab": {
          "base_uri": "https://localhost:8080/"
        },
        "outputId": "0f6bff0c-05a8-4fd8-93d2-f73e092e89b2"
      },
      "id": "GI7xpJxaealJ",
      "execution_count": 19,
      "outputs": [
        {
          "output_type": "execute_result",
          "data": {
            "text/plain": [
              "array([[1., 0., 0., 0., 0.],\n",
              "       [0., 1., 0., 0., 0.],\n",
              "       [0., 0., 1., 0., 0.],\n",
              "       [0., 0., 0., 1., 0.],\n",
              "       [0., 0., 0., 0., 1.]])"
            ]
          },
          "metadata": {},
          "execution_count": 19
        }
      ]
    },
    {
      "cell_type": "code",
      "source": [
        "#Question no-9"
      ],
      "metadata": {
        "id": "2PldhElJgI5t"
      },
      "id": "2PldhElJgI5t",
      "execution_count": null,
      "outputs": []
    },
    {
      "cell_type": "code",
      "source": [
        "a=np.array([1,2,3])"
      ],
      "metadata": {
        "id": "z8JSoX5zf06O"
      },
      "id": "z8JSoX5zf06O",
      "execution_count": null,
      "outputs": []
    },
    {
      "cell_type": "code",
      "source": [
        "b=np.array([4,5,6])"
      ],
      "metadata": {
        "id": "S0k88ESjgICZ"
      },
      "id": "S0k88ESjgICZ",
      "execution_count": null,
      "outputs": []
    },
    {
      "cell_type": "code",
      "source": [
        "arr=np.dot(a,b)"
      ],
      "metadata": {
        "id": "iGhRgNTcgZJR"
      },
      "id": "iGhRgNTcgZJR",
      "execution_count": null,
      "outputs": []
    },
    {
      "cell_type": "code",
      "source": [
        "arr"
      ],
      "metadata": {
        "colab": {
          "base_uri": "https://localhost:8080/"
        },
        "id": "ETUxrgqGhXEf",
        "outputId": "53c96d6a-3533-475c-d208-4b2d7152c413"
      },
      "id": "ETUxrgqGhXEf",
      "execution_count": null,
      "outputs": [
        {
          "output_type": "execute_result",
          "data": {
            "text/plain": [
              "32"
            ]
          },
          "metadata": {},
          "execution_count": 69
        }
      ]
    },
    {
      "cell_type": "code",
      "source": [
        "#Question no-10"
      ],
      "metadata": {
        "id": "goWAkg5Chf59"
      },
      "id": "goWAkg5Chf59",
      "execution_count": null,
      "outputs": []
    },
    {
      "cell_type": "code",
      "source": [
        "arr8"
      ],
      "metadata": {
        "colab": {
          "base_uri": "https://localhost:8080/"
        },
        "id": "AcazxVFxiwAu",
        "outputId": "9f948e97-622e-4335-8448-7783223e0863"
      },
      "id": "AcazxVFxiwAu",
      "execution_count": 29,
      "outputs": [
        {
          "output_type": "execute_result",
          "data": {
            "text/plain": [
              "array([218, 178,  93,  30, 187, 193,  28, 157, 224, 215, 168, 110])"
            ]
          },
          "metadata": {},
          "execution_count": 29
        }
      ]
    },
    {
      "cell_type": "code",
      "source": [
        "arr8.argmax()"
      ],
      "metadata": {
        "colab": {
          "base_uri": "https://localhost:8080/"
        },
        "id": "i6uztrR1jAJb",
        "outputId": "bb4ae9d8-96cd-4183-d69e-0317678b6f86"
      },
      "id": "i6uztrR1jAJb",
      "execution_count": 30,
      "outputs": [
        {
          "output_type": "execute_result",
          "data": {
            "text/plain": [
              "8"
            ]
          },
          "metadata": {},
          "execution_count": 30
        }
      ]
    },
    {
      "cell_type": "code",
      "source": [
        "arr8.argmin()"
      ],
      "metadata": {
        "colab": {
          "base_uri": "https://localhost:8080/"
        },
        "id": "dLCHxiXQjHcM",
        "outputId": "659e33e6-8513-40b1-89ea-7b4ac7320df1"
      },
      "id": "dLCHxiXQjHcM",
      "execution_count": 31,
      "outputs": [
        {
          "output_type": "execute_result",
          "data": {
            "text/plain": [
              "6"
            ]
          },
          "metadata": {},
          "execution_count": 31
        }
      ]
    },
    {
      "cell_type": "code",
      "source": [
        "#Question no-11"
      ],
      "metadata": {
        "id": "y4PkKUK6javd"
      },
      "id": "y4PkKUK6javd",
      "execution_count": null,
      "outputs": []
    },
    {
      "cell_type": "code",
      "source": [
        "a=np.zeros((4,3))"
      ],
      "metadata": {
        "id": "B-YZprVQnMc4"
      },
      "id": "B-YZprVQnMc4",
      "execution_count": null,
      "outputs": []
    },
    {
      "cell_type": "code",
      "source": [
        "a"
      ],
      "metadata": {
        "colab": {
          "base_uri": "https://localhost:8080/"
        },
        "id": "Jie4Oif2pdZ_",
        "outputId": "f795e65c-c8a3-49af-e113-7f5e6936ec42"
      },
      "id": "Jie4Oif2pdZ_",
      "execution_count": null,
      "outputs": [
        {
          "output_type": "execute_result",
          "data": {
            "text/plain": [
              "array([[0., 0., 0.],\n",
              "       [0., 0., 0.],\n",
              "       [0., 0., 0.],\n",
              "       [0., 0., 0.]])"
            ]
          },
          "metadata": {},
          "execution_count": 126
        }
      ]
    },
    {
      "cell_type": "code",
      "source": [
        "b=np.ones((4,3))"
      ],
      "metadata": {
        "id": "4J_18_X0pfkt"
      },
      "id": "4J_18_X0pfkt",
      "execution_count": null,
      "outputs": []
    },
    {
      "cell_type": "code",
      "source": [
        "b"
      ],
      "metadata": {
        "colab": {
          "base_uri": "https://localhost:8080/"
        },
        "id": "04bwZ6sApoDL",
        "outputId": "0206583e-b6fc-4913-946f-429b77ada40c"
      },
      "id": "04bwZ6sApoDL",
      "execution_count": null,
      "outputs": [
        {
          "output_type": "execute_result",
          "data": {
            "text/plain": [
              "array([[1., 1., 1.],\n",
              "       [1., 1., 1.],\n",
              "       [1., 1., 1.],\n",
              "       [1., 1., 1.]])"
            ]
          },
          "metadata": {},
          "execution_count": 129
        }
      ]
    },
    {
      "cell_type": "code",
      "source": [
        "np.concatenate((a,b),axis=1)"
      ],
      "metadata": {
        "colab": {
          "base_uri": "https://localhost:8080/"
        },
        "id": "7ZgIYlenp2Nt",
        "outputId": "0c8b7cb0-d4b1-4673-98a1-6a4c5bd706eb"
      },
      "id": "7ZgIYlenp2Nt",
      "execution_count": null,
      "outputs": [
        {
          "output_type": "execute_result",
          "data": {
            "text/plain": [
              "array([[0., 0., 0., 1., 1., 1.],\n",
              "       [0., 0., 0., 1., 1., 1.],\n",
              "       [0., 0., 0., 1., 1., 1.],\n",
              "       [0., 0., 0., 1., 1., 1.]])"
            ]
          },
          "metadata": {},
          "execution_count": 130
        }
      ]
    },
    {
      "cell_type": "code",
      "source": [
        "np.concatenate([a,b])"
      ],
      "metadata": {
        "colab": {
          "base_uri": "https://localhost:8080/"
        },
        "id": "f0P_0dABpoxg",
        "outputId": "65535283-d3bf-4076-ecaa-ec83bb09ce59"
      },
      "id": "f0P_0dABpoxg",
      "execution_count": null,
      "outputs": [
        {
          "output_type": "execute_result",
          "data": {
            "text/plain": [
              "array([[0., 0., 0.],\n",
              "       [0., 0., 0.],\n",
              "       [0., 0., 0.],\n",
              "       [0., 0., 0.],\n",
              "       [1., 1., 1.],\n",
              "       [1., 1., 1.],\n",
              "       [1., 1., 1.],\n",
              "       [1., 1., 1.]])"
            ]
          },
          "metadata": {},
          "execution_count": 131
        }
      ]
    },
    {
      "cell_type": "code",
      "source": [
        "#Question no-12"
      ],
      "metadata": {
        "id": "MODG8Ck2p0WE"
      },
      "id": "MODG8Ck2p0WE",
      "execution_count": null,
      "outputs": []
    },
    {
      "cell_type": "code",
      "source": [
        "arr12=np.array([[1,2,3,4,5],[6,7,8,9,0],[10,11,12,13,14],[15,16,17,18,19],[20,21,22,23,24]])"
      ],
      "metadata": {
        "id": "mV86FThysDsY"
      },
      "id": "mV86FThysDsY",
      "execution_count": null,
      "outputs": []
    },
    {
      "cell_type": "code",
      "source": [
        "arr12"
      ],
      "metadata": {
        "colab": {
          "base_uri": "https://localhost:8080/"
        },
        "id": "aw26Dq0TsoLr",
        "outputId": "2def6d3e-1f30-4ab9-d9a8-d1652f7bb3b5"
      },
      "id": "aw26Dq0TsoLr",
      "execution_count": null,
      "outputs": [
        {
          "output_type": "execute_result",
          "data": {
            "text/plain": [
              "array([[ 1,  2,  3,  4,  5],\n",
              "       [ 6,  7,  8,  9,  0],\n",
              "       [10, 11, 12, 13, 14],\n",
              "       [15, 16, 17, 18, 19],\n",
              "       [20, 21, 22, 23, 24]])"
            ]
          },
          "metadata": {},
          "execution_count": 140
        }
      ]
    },
    {
      "cell_type": "code",
      "source": [
        "arr12.sum(0)     #coloum wise"
      ],
      "metadata": {
        "colab": {
          "base_uri": "https://localhost:8080/"
        },
        "id": "A2zEriWusrHO",
        "outputId": "f36d9cbd-0f4c-486d-b5d0-6c5d7265c651"
      },
      "id": "A2zEriWusrHO",
      "execution_count": null,
      "outputs": [
        {
          "output_type": "execute_result",
          "data": {
            "text/plain": [
              "array([52, 57, 62, 67, 62])"
            ]
          },
          "metadata": {},
          "execution_count": 141
        }
      ]
    },
    {
      "cell_type": "code",
      "source": [
        "arr12.sum(1)       #row wise"
      ],
      "metadata": {
        "colab": {
          "base_uri": "https://localhost:8080/"
        },
        "id": "xvgwZgROtFE1",
        "outputId": "e71b568f-2e31-475f-95a3-4e01f7e2e1f0"
      },
      "id": "xvgwZgROtFE1",
      "execution_count": null,
      "outputs": [
        {
          "output_type": "execute_result",
          "data": {
            "text/plain": [
              "array([ 15,  30,  60,  85, 110])"
            ]
          },
          "metadata": {},
          "execution_count": 142
        }
      ]
    },
    {
      "cell_type": "code",
      "source": [
        "#Question no-13"
      ],
      "metadata": {
        "id": "yDTaJAlitcKo"
      },
      "id": "yDTaJAlitcKo",
      "execution_count": null,
      "outputs": []
    },
    {
      "cell_type": "code",
      "source": [
        "a=np.arange(20)"
      ],
      "metadata": {
        "id": "KJ5qni9Uteit"
      },
      "id": "KJ5qni9Uteit",
      "execution_count": null,
      "outputs": []
    },
    {
      "cell_type": "code",
      "source": [
        "a"
      ],
      "metadata": {
        "colab": {
          "base_uri": "https://localhost:8080/"
        },
        "id": "-FuVj20SuD7d",
        "outputId": "a7041675-d783-43e5-eeb7-44e7c5dfb077"
      },
      "id": "-FuVj20SuD7d",
      "execution_count": null,
      "outputs": [
        {
          "output_type": "execute_result",
          "data": {
            "text/plain": [
              "array([ 0,  1,  2,  3,  4,  5,  6,  7,  8,  9, 10, 11, 12, 13, 14, 15, 16,\n",
              "       17, 18, 19])"
            ]
          },
          "metadata": {},
          "execution_count": 147
        }
      ]
    },
    {
      "cell_type": "code",
      "source": [
        "b=np.arange(1,25,2)"
      ],
      "metadata": {
        "id": "VxS7lk6HuIPp"
      },
      "id": "VxS7lk6HuIPp",
      "execution_count": null,
      "outputs": []
    },
    {
      "cell_type": "code",
      "source": [
        "b"
      ],
      "metadata": {
        "colab": {
          "base_uri": "https://localhost:8080/"
        },
        "id": "SILCUi7ZuGhN",
        "outputId": "2985fa48-00c5-435f-f094-4c909926eafb"
      },
      "id": "SILCUi7ZuGhN",
      "execution_count": null,
      "outputs": [
        {
          "output_type": "execute_result",
          "data": {
            "text/plain": [
              "array([ 1,  3,  5,  7,  9, 11, 13, 15, 17, 19, 21, 23])"
            ]
          },
          "metadata": {},
          "execution_count": 149
        }
      ]
    },
    {
      "cell_type": "code",
      "source": [
        "np.intersect1d(a,b)"
      ],
      "metadata": {
        "colab": {
          "base_uri": "https://localhost:8080/"
        },
        "id": "ZeYiDiEVuWTt",
        "outputId": "092d31d9-071e-44c5-d54e-b645bb0f019b"
      },
      "id": "ZeYiDiEVuWTt",
      "execution_count": null,
      "outputs": [
        {
          "output_type": "execute_result",
          "data": {
            "text/plain": [
              "array([ 1,  3,  5,  7,  9, 11, 13, 15, 17, 19])"
            ]
          },
          "metadata": {},
          "execution_count": 152
        }
      ]
    },
    {
      "cell_type": "code",
      "source": [
        "#Question no-14"
      ],
      "metadata": {
        "id": "YIjxs3QgvVmn"
      },
      "id": "YIjxs3QgvVmn",
      "execution_count": null,
      "outputs": []
    },
    {
      "cell_type": "code",
      "source": [
        "arr14=np.array([[5,6,-7,8],[-9,-10,11,12],[-13,14,15,16],[-17,18,-19,-20]])"
      ],
      "metadata": {
        "id": "GdqE532evcuQ"
      },
      "id": "GdqE532evcuQ",
      "execution_count": null,
      "outputs": []
    },
    {
      "cell_type": "code",
      "source": [
        "arr14"
      ],
      "metadata": {
        "colab": {
          "base_uri": "https://localhost:8080/"
        },
        "id": "Ifh4NbXxwC4r",
        "outputId": "2b61ee40-ea33-4a25-f328-76ff6234c9d2"
      },
      "id": "Ifh4NbXxwC4r",
      "execution_count": null,
      "outputs": [
        {
          "output_type": "execute_result",
          "data": {
            "text/plain": [
              "array([[  5,   6,  -7,   8],\n",
              "       [ -9, -10,  11,  12],\n",
              "       [-13,  14,  15,  16],\n",
              "       [-17,  18, -19, -20]])"
            ]
          },
          "metadata": {},
          "execution_count": 173
        }
      ]
    },
    {
      "cell_type": "code",
      "source": [
        "arr14[arr14<0]=0"
      ],
      "metadata": {
        "id": "VKGH7E3dznI8"
      },
      "id": "VKGH7E3dznI8",
      "execution_count": null,
      "outputs": []
    },
    {
      "cell_type": "code",
      "source": [
        "arr14"
      ],
      "metadata": {
        "colab": {
          "base_uri": "https://localhost:8080/"
        },
        "id": "HxwYUT9fzuSf",
        "outputId": "4ac5cdea-a0a0-44ec-bfa0-c8e25884fc2c"
      },
      "id": "HxwYUT9fzuSf",
      "execution_count": null,
      "outputs": [
        {
          "output_type": "execute_result",
          "data": {
            "text/plain": [
              "array([[ 5,  6,  0,  8],\n",
              "       [ 0,  0, 11, 12],\n",
              "       [ 0, 14, 15, 16],\n",
              "       [ 0, 18,  0,  0]])"
            ]
          },
          "metadata": {},
          "execution_count": 180
        }
      ]
    },
    {
      "cell_type": "code",
      "source": [
        "#Question no-15"
      ],
      "metadata": {
        "id": "VG4ib-K-zxQf"
      },
      "id": "VG4ib-K-zxQf",
      "execution_count": null,
      "outputs": []
    },
    {
      "cell_type": "code",
      "source": [
        "arr15=np.random.randint(1,100,40)"
      ],
      "metadata": {
        "id": "fdI76AxT0C0N"
      },
      "id": "fdI76AxT0C0N",
      "execution_count": null,
      "outputs": []
    },
    {
      "cell_type": "code",
      "source": [
        "arr15"
      ],
      "metadata": {
        "colab": {
          "base_uri": "https://localhost:8080/"
        },
        "id": "S1gXi0mC0eOX",
        "outputId": "6722257d-d7ec-4f95-d558-7bb02f82a034"
      },
      "id": "S1gXi0mC0eOX",
      "execution_count": null,
      "outputs": [
        {
          "output_type": "execute_result",
          "data": {
            "text/plain": [
              "array([84, 11, 60, 68, 90, 55, 14, 44, 24, 71, 14, 89, 72, 38, 57, 12, 19,\n",
              "       57, 16, 45, 73, 17, 29, 58, 72, 73, 52, 21, 11,  3, 54, 89, 59, 20,\n",
              "       36,  2,  5, 12,  3, 15])"
            ]
          },
          "metadata": {},
          "execution_count": 186
        }
      ]
    },
    {
      "cell_type": "code",
      "source": [
        "arr15.sort()"
      ],
      "metadata": {
        "id": "2TQIE-VL0gRS"
      },
      "id": "2TQIE-VL0gRS",
      "execution_count": null,
      "outputs": []
    },
    {
      "cell_type": "code",
      "source": [
        "arr15"
      ],
      "metadata": {
        "colab": {
          "base_uri": "https://localhost:8080/"
        },
        "id": "k1tYAtuB09iR",
        "outputId": "eda0c5fa-d140-497d-cfaf-c4be24f0aef9"
      },
      "id": "k1tYAtuB09iR",
      "execution_count": null,
      "outputs": [
        {
          "output_type": "execute_result",
          "data": {
            "text/plain": [
              "array([ 2,  3,  3,  5, 11, 11, 12, 12, 14, 14, 15, 16, 17, 19, 20, 21, 24,\n",
              "       29, 36, 38, 44, 45, 52, 54, 55, 57, 57, 58, 59, 60, 68, 71, 72, 72,\n",
              "       73, 73, 84, 89, 89, 90])"
            ]
          },
          "metadata": {},
          "execution_count": 190
        }
      ]
    },
    {
      "cell_type": "code",
      "source": [
        "#Question no-16"
      ],
      "metadata": {
        "id": "pCl8fEcT0-63"
      },
      "id": "pCl8fEcT0-63",
      "execution_count": null,
      "outputs": []
    },
    {
      "cell_type": "code",
      "source": [
        "a=np.arange(1,13)"
      ],
      "metadata": {
        "id": "skIBMdFp1deQ"
      },
      "id": "skIBMdFp1deQ",
      "execution_count": 48,
      "outputs": []
    },
    {
      "cell_type": "code",
      "source": [
        "a"
      ],
      "metadata": {
        "colab": {
          "base_uri": "https://localhost:8080/"
        },
        "id": "lfLk-qbJ8KB6",
        "outputId": "452772b2-dff0-4973-92db-5384088de8e7"
      },
      "id": "lfLk-qbJ8KB6",
      "execution_count": 42,
      "outputs": [
        {
          "output_type": "execute_result",
          "data": {
            "text/plain": [
              "array([ 1,  2,  3,  4,  5,  6,  7,  8,  9, 10, 11, 12])"
            ]
          },
          "metadata": {},
          "execution_count": 42
        }
      ]
    },
    {
      "cell_type": "code",
      "source": [
        "b=np.arange(18,30)"
      ],
      "metadata": {
        "id": "a6BWyQOq8zcc"
      },
      "id": "a6BWyQOq8zcc",
      "execution_count": 49,
      "outputs": []
    },
    {
      "cell_type": "code",
      "source": [
        "b"
      ],
      "metadata": {
        "colab": {
          "base_uri": "https://localhost:8080/"
        },
        "id": "qL151BRj9lvq",
        "outputId": "42083115-edb7-470c-bb79-addeec101eaa"
      },
      "id": "qL151BRj9lvq",
      "execution_count": 44,
      "outputs": [
        {
          "output_type": "execute_result",
          "data": {
            "text/plain": [
              "array([18, 19, 20, 21, 22, 23, 24, 25, 26, 27, 28])"
            ]
          },
          "metadata": {},
          "execution_count": 44
        }
      ]
    },
    {
      "cell_type": "code",
      "source": [
        "x=np.absolute(a-b)"
      ],
      "metadata": {
        "id": "PbMWrpG1DHBr"
      },
      "id": "PbMWrpG1DHBr",
      "execution_count": 50,
      "outputs": []
    },
    {
      "cell_type": "code",
      "source": [
        "x"
      ],
      "metadata": {
        "colab": {
          "base_uri": "https://localhost:8080/"
        },
        "id": "OhOnVFZIDXrF",
        "outputId": "695c83ce-acb7-4cab-903a-7c4e840d008e"
      },
      "id": "OhOnVFZIDXrF",
      "execution_count": 51,
      "outputs": [
        {
          "output_type": "execute_result",
          "data": {
            "text/plain": [
              "array([17, 17, 17, 17, 17, 17, 17, 17, 17, 17, 17, 17])"
            ]
          },
          "metadata": {},
          "execution_count": 51
        }
      ]
    },
    {
      "cell_type": "code",
      "source": [
        "#Question no-17"
      ],
      "metadata": {
        "id": "3Tsv-M60ASeB"
      },
      "id": "3Tsv-M60ASeB",
      "execution_count": null,
      "outputs": []
    },
    {
      "cell_type": "code",
      "source": [
        "arr17=np.arange(11,31).reshape(5,4)"
      ],
      "metadata": {
        "id": "PhO7PeDMAbEc"
      },
      "id": "PhO7PeDMAbEc",
      "execution_count": 53,
      "outputs": []
    },
    {
      "cell_type": "code",
      "source": [
        "arr17"
      ],
      "metadata": {
        "colab": {
          "base_uri": "https://localhost:8080/"
        },
        "id": "vGxNF0Z9A0Wg",
        "outputId": "fc9915a2-d295-466e-fb98-1323ab11d1de"
      },
      "id": "vGxNF0Z9A0Wg",
      "execution_count": 54,
      "outputs": [
        {
          "output_type": "execute_result",
          "data": {
            "text/plain": [
              "array([[11, 12, 13, 14],\n",
              "       [15, 16, 17, 18],\n",
              "       [19, 20, 21, 22],\n",
              "       [23, 24, 25, 26],\n",
              "       [27, 28, 29, 30]])"
            ]
          },
          "metadata": {},
          "execution_count": 54
        }
      ]
    },
    {
      "cell_type": "code",
      "source": [
        "a=arr17[0]"
      ],
      "metadata": {
        "id": "ETcbgSWJD6eu"
      },
      "id": "ETcbgSWJD6eu",
      "execution_count": 55,
      "outputs": []
    },
    {
      "cell_type": "code",
      "source": [
        "a"
      ],
      "metadata": {
        "colab": {
          "base_uri": "https://localhost:8080/"
        },
        "id": "ZIGjru5jEFlc",
        "outputId": "c88ff556-a5f5-448c-ae95-145f2fbbeef4"
      },
      "id": "ZIGjru5jEFlc",
      "execution_count": 56,
      "outputs": [
        {
          "output_type": "execute_result",
          "data": {
            "text/plain": [
              "array([11, 12, 13, 14])"
            ]
          },
          "metadata": {},
          "execution_count": 56
        }
      ]
    },
    {
      "cell_type": "code",
      "source": [
        "b=arr17[:,[-1]]"
      ],
      "metadata": {
        "id": "J7huewfLELB-"
      },
      "id": "J7huewfLELB-",
      "execution_count": 57,
      "outputs": []
    },
    {
      "cell_type": "code",
      "source": [
        "b"
      ],
      "metadata": {
        "colab": {
          "base_uri": "https://localhost:8080/"
        },
        "id": "UjbBuMRyESVa",
        "outputId": "d6bfebd1-a3f8-4b39-e108-0e40f8ec6ae3"
      },
      "id": "UjbBuMRyESVa",
      "execution_count": 58,
      "outputs": [
        {
          "output_type": "execute_result",
          "data": {
            "text/plain": [
              "array([[14],\n",
              "       [18],\n",
              "       [22],\n",
              "       [26],\n",
              "       [30]])"
            ]
          },
          "metadata": {},
          "execution_count": 58
        }
      ]
    },
    {
      "cell_type": "code",
      "source": [
        "#Question no-18"
      ],
      "metadata": {
        "id": "8f5ncTp0EP_L"
      },
      "id": "8f5ncTp0EP_L",
      "execution_count": null,
      "outputs": []
    },
    {
      "cell_type": "code",
      "source": [
        "a=np.array([1,2,3,4,5,6,7,8,9])\n"
      ],
      "metadata": {
        "id": "53cAXbLxEhUX"
      },
      "id": "53cAXbLxEhUX",
      "execution_count": 3,
      "outputs": []
    },
    {
      "cell_type": "code",
      "source": [
        "x=a[0:len(a)+1]"
      ],
      "metadata": {
        "id": "icl36mH-7PMD"
      },
      "id": "icl36mH-7PMD",
      "execution_count": 5,
      "outputs": []
    },
    {
      "cell_type": "code",
      "source": [
        "print(x)"
      ],
      "metadata": {
        "colab": {
          "base_uri": "https://localhost:8080/"
        },
        "id": "yik72Y227ZeC",
        "outputId": "628fca8a-d479-42c7-abc3-ae414929f9c3"
      },
      "id": "yik72Y227ZeC",
      "execution_count": 6,
      "outputs": [
        {
          "output_type": "stream",
          "name": "stdout",
          "text": [
            "[1 2 3 4 5 6 7 8 9]\n"
          ]
        }
      ]
    },
    {
      "cell_type": "code",
      "source": [
        "#Question no-19"
      ],
      "metadata": {
        "id": "rcnYgzhM7bc4"
      },
      "id": "rcnYgzhM7bc4",
      "execution_count": 7,
      "outputs": []
    },
    {
      "cell_type": "code",
      "source": [
        "arr=np.array([[10,1,14,16,18,20],\n",
        "               [22,24,26,28,30,32],\n",
        "               [34,36,38,40,42,44],\n",
        "               [46,48,50,52,54,56],\n",
        "               [58,60,62,64,66,68],\n",
        "               [70,72,74,76,78,80]])"
      ],
      "metadata": {
        "id": "pwnM5Epz7i9p"
      },
      "id": "pwnM5Epz7i9p",
      "execution_count": 9,
      "outputs": []
    },
    {
      "cell_type": "code",
      "source": [
        "arr"
      ],
      "metadata": {
        "colab": {
          "base_uri": "https://localhost:8080/"
        },
        "id": "Oqa-jh3L8ahH",
        "outputId": "43f6eeb3-7444-4d67-dd12-fe691738b0fe"
      },
      "id": "Oqa-jh3L8ahH",
      "execution_count": 10,
      "outputs": [
        {
          "output_type": "execute_result",
          "data": {
            "text/plain": [
              "array([[10,  1, 14, 16, 18, 20],\n",
              "       [22, 24, 26, 28, 30, 32],\n",
              "       [34, 36, 38, 40, 42, 44],\n",
              "       [46, 48, 50, 52, 54, 56],\n",
              "       [58, 60, 62, 64, 66, 68],\n",
              "       [70, 72, 74, 76, 78, 80]])"
            ]
          },
          "metadata": {},
          "execution_count": 10
        }
      ]
    },
    {
      "cell_type": "code",
      "source": [
        "x=arr[2:4,[2,3]]"
      ],
      "metadata": {
        "id": "yX1vWdbG8dLH"
      },
      "id": "yX1vWdbG8dLH",
      "execution_count": 12,
      "outputs": []
    },
    {
      "cell_type": "code",
      "source": [
        "x"
      ],
      "metadata": {
        "colab": {
          "base_uri": "https://localhost:8080/"
        },
        "id": "Anca0P-e8oJl",
        "outputId": "dd811c1f-8d86-49f5-9030-e0e74a3a303a"
      },
      "id": "Anca0P-e8oJl",
      "execution_count": 13,
      "outputs": [
        {
          "output_type": "execute_result",
          "data": {
            "text/plain": [
              "array([[38, 40],\n",
              "       [50, 52]])"
            ]
          },
          "metadata": {},
          "execution_count": 13
        }
      ]
    },
    {
      "cell_type": "code",
      "source": [
        "#Question no-20"
      ],
      "metadata": {
        "id": "dz8A2Adz8pOB"
      },
      "id": "dz8A2Adz8pOB",
      "execution_count": 14,
      "outputs": []
    },
    {
      "cell_type": "code",
      "source": [
        "a=np.array([1,2,3,4,5,6,7,8,9])"
      ],
      "metadata": {
        "id": "ugaqgAM_8zA4"
      },
      "id": "ugaqgAM_8zA4",
      "execution_count": 15,
      "outputs": []
    },
    {
      "cell_type": "code",
      "source": [
        "a"
      ],
      "metadata": {
        "colab": {
          "base_uri": "https://localhost:8080/"
        },
        "id": "sW78qmqw8-FU",
        "outputId": "dbe7f6ba-9bd0-4810-8d63-99362dd5abb9"
      },
      "id": "sW78qmqw8-FU",
      "execution_count": 16,
      "outputs": [
        {
          "output_type": "execute_result",
          "data": {
            "text/plain": [
              "array([1, 2, 3, 4, 5, 6, 7, 8, 9])"
            ]
          },
          "metadata": {},
          "execution_count": 16
        }
      ]
    },
    {
      "cell_type": "code",
      "source": [
        "x=a[::-1]"
      ],
      "metadata": {
        "id": "gk-7EgSt9BD2"
      },
      "id": "gk-7EgSt9BD2",
      "execution_count": 17,
      "outputs": []
    },
    {
      "cell_type": "code",
      "source": [
        "x"
      ],
      "metadata": {
        "colab": {
          "base_uri": "https://localhost:8080/"
        },
        "id": "kq-SiCBS9HB7",
        "outputId": "e7cc8841-4adf-4c08-a350-4847d1f53f68"
      },
      "id": "kq-SiCBS9HB7",
      "execution_count": 18,
      "outputs": [
        {
          "output_type": "execute_result",
          "data": {
            "text/plain": [
              "array([9, 8, 7, 6, 5, 4, 3, 2, 1])"
            ]
          },
          "metadata": {},
          "execution_count": 18
        }
      ]
    }
  ],
  "metadata": {
    "kernelspec": {
      "display_name": "Python 3 (ipykernel)",
      "language": "python",
      "name": "python3"
    },
    "language_info": {
      "codemirror_mode": {
        "name": "ipython",
        "version": 3
      },
      "file_extension": ".py",
      "mimetype": "text/x-python",
      "name": "python",
      "nbconvert_exporter": "python",
      "pygments_lexer": "ipython3",
      "version": "3.11.5"
    },
    "colab": {
      "provenance": []
    }
  },
  "nbformat": 4,
  "nbformat_minor": 5
}